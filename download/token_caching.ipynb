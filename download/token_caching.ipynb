{
 "cells": [
  {
   "cell_type": "markdown",
   "id": "d25620e4",
   "metadata": {},
   "source": [
    "# Token-caching demo\n",
    "\n",
    "Benchmark `DefaultAzureCredential.get_token()` with and without token caching on `AzureCliCredential`."
   ]
  },
  {
   "cell_type": "code",
   "execution_count": 1,
   "id": "923abd88",
   "metadata": {},
   "outputs": [],
   "source": [
    "from azure.identity import DefaultAzureCredential\n",
    "\n",
    "credential = DefaultAzureCredential()"
   ]
  },
  {
   "cell_type": "markdown",
   "id": "c773c6a2",
   "metadata": {},
   "source": [
    "Baseline benchmark"
   ]
  },
  {
   "cell_type": "code",
   "execution_count": 2,
   "id": "d22c2095",
   "metadata": {},
   "outputs": [
    {
     "name": "stdout",
     "output_type": "stream",
     "text": [
      "2.54 s ± 67.7 ms per loop (mean ± std. dev. of 3 runs, 1 loop each)\n"
     ]
    }
   ],
   "source": [
    "%%timeit -r 3 -n 1\n",
    "\n",
    "access_token = credential.get_token(\"https://management.azure.com/.default\").token"
   ]
  },
  {
   "cell_type": "markdown",
   "id": "f6a2561f",
   "metadata": {},
   "source": [
    "Add token caching"
   ]
  },
  {
   "cell_type": "code",
   "execution_count": 3,
   "id": "519fb299",
   "metadata": {},
   "outputs": [],
   "source": [
    "import json\n",
    "import time\n",
    "import azure.identity\n",
    "\n",
    "def wrap_with_token_cache(object, property_name):\n",
    "    token_cache = {}\n",
    "    func = getattr(object, property_name)\n",
    "    def wrapper(self, *args, **kwargs):\n",
    "        key = json.dumps(args, sort_keys=True) + json.dumps(kwargs, sort_keys=True)\n",
    "        token = token_cache.get(key, None)\n",
    "        if token is None or int(time.time()) >= token.expires_on - 300:\n",
    "            token = func(self, *args, **kwargs)\n",
    "            token_cache[key] = token\n",
    "        return token\n",
    "    setattr(object, property_name, wrapper)\n",
    "\n",
    "wrap_with_token_cache(azure.identity.AzureCliCredential, 'get_token')\n",
    "wrap_with_token_cache(azure.identity.AzureCliCredential, 'get_token_info')"
   ]
  },
  {
   "cell_type": "markdown",
   "id": "96a0fd18",
   "metadata": {},
   "source": [
    "Token-cache benchmark"
   ]
  },
  {
   "cell_type": "code",
   "execution_count": 4,
   "id": "a1acd143",
   "metadata": {},
   "outputs": [
    {
     "name": "stdout",
     "output_type": "stream",
     "text": [
      "The slowest run took 208979.32 times longer than the fastest. This could mean that an intermediate result is being cached.\n",
      "850 ms ± 1.2 s per loop (mean ± std. dev. of 3 runs, 1 loop each)\n"
     ]
    }
   ],
   "source": [
    "%%timeit -r 3 -n 1\n",
    "\n",
    "access_token = credential.get_token(\"https://management.azure.com/.default\").token"
   ]
  }
 ],
 "metadata": {
  "kernelspec": {
   "display_name": "riqds-playground",
   "language": "python",
   "name": "python3"
  },
  "language_info": {
   "codemirror_mode": {
    "name": "ipython",
    "version": 3
   },
   "file_extension": ".py",
   "mimetype": "text/x-python",
   "name": "python",
   "nbconvert_exporter": "python",
   "pygments_lexer": "ipython3",
   "version": "3.11.11"
  }
 },
 "nbformat": 4,
 "nbformat_minor": 5
}
